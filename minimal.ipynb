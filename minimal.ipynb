{
 "cells": [
  {
   "cell_type": "code",
   "execution_count": null,
   "metadata": {},
   "outputs": [],
   "source": [
    "import numpy as np\n",
    "import pandas as pd\n",
    "import pythia\n",
    "import rowan\n",
    "%matplotlib inline"
   ]
  },
  {
   "cell_type": "code",
   "execution_count": null,
   "metadata": {},
   "outputs": [],
   "source": [
    "size = 3\n",
    "np.random.seed(0)\n",
    "box = [10, 10, 10, 0, 0, 0]\n",
    "# positions = np.array(env)\n",
    "positions = np.array([\n",
    "        [0, 0, 0],\n",
    "        [0, 0, 1],\n",
    "    ])\n",
    "\n",
    "angles = np.random.rand(size) * np.pi / 180\n",
    "angles = np.concatenate([angles + i * np.pi / 2 for i in range(4)])\n",
    "\n",
    "table = []\n",
    "for a in angles:\n",
    "    q = rowan.from_euler(alpha=0, beta=a, gamma=0)\n",
    "    points = rowan.rotate(q, positions)\n",
    "    \n",
    "    x = pythia.spherical_harmonics.bispectrum(box, points, 1, 1)[0]\n",
    "    table.append([a] + x.tolist())\n",
    "    \n",
    "df = pd.DataFrame(table, columns=['angle'] + [str(i) for i in range(len(x))]).set_index('angle')\n",
    "df.index *= 180 / np.pi"
   ]
  },
  {
   "cell_type": "code",
   "execution_count": null,
   "metadata": {},
   "outputs": [],
   "source": [
    "df.var()"
   ]
  },
  {
   "cell_type": "code",
   "execution_count": null,
   "metadata": {},
   "outputs": [],
   "source": [
    "df[df.var().idxmax()]"
   ]
  },
  {
   "cell_type": "code",
   "execution_count": null,
   "metadata": {},
   "outputs": [],
   "source": [
    "df[df.var().idxmax()].plot.bar()"
   ]
  }
 ],
 "metadata": {
  "kernelspec": {
   "display_name": "Python [conda env:bispectrum-issue] *",
   "language": "python",
   "name": "conda-env-bispectrum-issue-py"
  },
  "language_info": {
   "codemirror_mode": {
    "name": "ipython",
    "version": 3
   },
   "file_extension": ".py",
   "mimetype": "text/x-python",
   "name": "python",
   "nbconvert_exporter": "python",
   "pygments_lexer": "ipython3",
   "version": "3.7.3"
  }
 },
 "nbformat": 4,
 "nbformat_minor": 4
}
